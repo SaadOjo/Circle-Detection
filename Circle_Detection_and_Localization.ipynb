{
  "nbformat": 4,
  "nbformat_minor": 0,
  "metadata": {
    "colab": {
      "name": "Circle Detection and Localization.ipynb",
      "provenance": [],
      "collapsed_sections": [],
      "authorship_tag": "ABX9TyNBNIaIYSTFyYBG6P722YlG",
      "include_colab_link": true
    },
    "kernelspec": {
      "name": "python3",
      "display_name": "Python 3"
    },
    "accelerator": "GPU"
  },
  "cells": [
    {
      "cell_type": "markdown",
      "metadata": {
        "id": "view-in-github",
        "colab_type": "text"
      },
      "source": [
        "<a href=\"https://colab.research.google.com/github/SaadOjo/Circle-Detection/blob/main/Circle_Detection_and_Localization.ipynb\" target=\"_parent\"><img src=\"https://colab.research.google.com/assets/colab-badge.svg\" alt=\"Open In Colab\"/></a>"
      ]
    },
    {
      "cell_type": "code",
      "metadata": {
        "id": "11CIXz_l7O1U"
      },
      "source": [
        "import numpy as np\n",
        "import tensorflow as tf\n",
        "from tensorflow import keras\n",
        "import matplotlib.pyplot as plt\n",
        "import cv2"
      ],
      "execution_count": null,
      "outputs": []
    },
    {
      "cell_type": "code",
      "metadata": {
        "id": "yELBnZ0q9WZq"
      },
      "source": [
        "def add_square(img, center, width):\n",
        "  start_point = (center[0]-width, center[1]-width)\n",
        "  end_point   = (center[0]+width, center[1]+width)\n",
        "  cv2.rectangle(img, start_point, end_point, random_color(),cv2.FILLED)"
      ],
      "execution_count": null,
      "outputs": []
    },
    {
      "cell_type": "code",
      "metadata": {
        "id": "VeV5Q1ky7izq"
      },
      "source": [
        "def create_data_sample(num_shapes, height, width):\n",
        "  img = np.zeros((height, width, 3))\n",
        "  label = np.zeros((height, width, 1))\n",
        "  for _ in range(num_shapes):\n",
        "    x = int(np.random.rand()*width)\n",
        "    y = int(np.random.rand()*height)\n",
        "    if np.random.rand() > 0.5:\n",
        "      cv2.circle(img, (x,y), int(np.ceil(width*0.05)), random_color(), cv2.FILLED)\n",
        "      cv2.circle(label, (x,y), int(np.ceil(width*0.02)), (1,1,1), cv2.FILLED)\n",
        "    else: \n",
        "      add_square(img, (x,y), int(np.ceil(width*0.05*0.7)))\n",
        "  return img, label\n"
      ],
      "execution_count": null,
      "outputs": []
    },
    {
      "cell_type": "code",
      "metadata": {
        "id": "ahEDuTw_uelA"
      },
      "source": [
        "def test_batch(num_shapes, height, width):\n",
        "  img, label = create_data_sample(num_shapes, height, width)\n",
        "  return np.expand_dims(img,0), np.expand_dims(label,0)"
      ],
      "execution_count": null,
      "outputs": []
    },
    {
      "cell_type": "code",
      "metadata": {
        "id": "DcjI2eH1HDql"
      },
      "source": [
        "def grayscale_image(img):\n",
        "  return np.expand_dims((img[:,:,0] + img[:,:,1] + img[:,:,2])/3,2)"
      ],
      "execution_count": null,
      "outputs": []
    },
    {
      "cell_type": "code",
      "metadata": {
        "id": "Fe5pV5xu-2XS"
      },
      "source": [
        "# (128,128,1) --> (128,128,3)\n",
        "def to_three_channels(img):\n",
        "  return np.squeeze(np.stack((img,img,img), 2))"
      ],
      "execution_count": null,
      "outputs": []
    },
    {
      "cell_type": "code",
      "metadata": {
        "id": "i0a9CpWHS5wc"
      },
      "source": [
        "def random_color():\n",
        "  return np.random.rand(3)"
      ],
      "execution_count": null,
      "outputs": []
    },
    {
      "cell_type": "code",
      "metadata": {
        "id": "6e-JcGdI8jn7"
      },
      "source": [
        "def show_sample(img, label):\n",
        "  figure, axis = plt.subplots(1,2)\n",
        "  axis[0].imshow(img)\n",
        "  axis[1].imshow(to_three_channels(label))"
      ],
      "execution_count": null,
      "outputs": []
    },
    {
      "cell_type": "code",
      "metadata": {
        "id": "ezsg3vRxEePg"
      },
      "source": [
        "def show_batch(img, label):\n",
        "  show_sample(img[0,:,:,:],label[0,:,:,:])"
      ],
      "execution_count": null,
      "outputs": []
    },
    {
      "cell_type": "code",
      "metadata": {
        "id": "_NMRH77R8t_Z",
        "outputId": "c010d3bd-9f47-4f13-e088-99eb43c5c610",
        "colab": {
          "base_uri": "https://localhost:8080/",
          "height": 203
        }
      },
      "source": [
        "img_shape = (128,128,3)\n",
        "img, label = create_data_sample(10, img_shape[0], img_shape[1])\n",
        "show_sample(img, label)"
      ],
      "execution_count": null,
      "outputs": [
        {
          "output_type": "display_data",
          "data": {
            "image/png": "[encoded data removed]",
            "text/plain": [
              "<Figure size 432x288 with 2 Axes>"
            ]
          },
          "metadata": {
            "tags": [],
            "needs_background": "light"
          }
        }
      ]
    },
    {
      "cell_type": "code",
      "metadata": {
        "id": "4VU7X3wKE06e",
        "outputId": "9fd894ac-b35a-4efe-f324-998f35acddb8",
        "colab": {
          "base_uri": "https://localhost:8080/",
          "height": 221
        }
      },
      "source": [
        "img, label = test_batch(10, img_shape[0], img_shape[1])\n",
        "print(img.shape, label.shape)\n",
        "show_batch(img, label)"
      ],
      "execution_count": null,
      "outputs": [
        {
          "output_type": "stream",
          "text": [
            "(1, 128, 128, 3) (1, 128, 128, 1)\n"
          ],
          "name": "stdout"
        },
        {
          "output_type": "display_data",
          "data": {
            "image/png": "[encoded data removed]",
            "text/plain": [
              "<Figure size 432x288 with 2 Axes>"
            ]
          },
          "metadata": {
            "tags": [],
            "needs_background": "light"
          }
        }
      ]
    },
    {
      "cell_type": "code",
      "metadata": {
        "id": "LuT2wrG_FMO-",
        "outputId": "7b351e83-2548-499e-8b53-91923a394a54",
        "colab": {
          "base_uri": "https://localhost:8080/",
          "height": 364
        }
      },
      "source": [
        "#l2 = keras.regularizers.l2(1e-5)\n",
        "l2 = None\n",
        "inputs = keras.Input(shape=img_shape)\n",
        "conv1 = keras.layers.Conv2D(16,5,padding='same',activation='relu',kernel_initializer='glorot_normal',kernel_regularizer=l2)(inputs)\n",
        "conv1 = keras.layers.BatchNormalization(momentum=0.99)(conv1)\n",
        "conv2 = keras.layers.Conv2D(32,5,padding='same',activation='relu',kernel_initializer='glorot_normal',kernel_regularizer=l2)(conv1)\n",
        "conv2 = keras.layers.BatchNormalization(momentum=0.99)(conv2)\n",
        "outputs = keras.layers.Conv2D(1,5,padding='same',activation='relu',kernel_initializer='glorot_normal',kernel_regularizer=l2)(conv2)\n",
        "model = keras.Model(inputs=inputs, outputs=outputs)\n",
        "model.summary()"
      ],
      "execution_count": null,
      "outputs": [
        {
          "output_type": "stream",
          "text": [
            "Model: \"functional_1\"\n",
            "_________________________________________________________________\n",
            "Layer (type)                 Output Shape              Param #   \n",
            "=================================================================\n",
            "input_1 (InputLayer)         [(None, 128, 128, 3)]     0         \n",
            "_________________________________________________________________\n",
            "conv2d (Conv2D)              (None, 128, 128, 16)      1216      \n",
            "_________________________________________________________________\n",
            "batch_normalization (BatchNo (None, 128, 128, 16)      64        \n",
            "_________________________________________________________________\n",
            "conv2d_1 (Conv2D)            (None, 128, 128, 32)      12832     \n",
            "_________________________________________________________________\n",
            "batch_normalization_1 (Batch (None, 128, 128, 32)      128       \n",
            "_________________________________________________________________\n",
            "conv2d_2 (Conv2D)            (None, 128, 128, 1)       801       \n",
            "=================================================================\n",
            "Total params: 15,041\n",
            "Trainable params: 14,945\n",
            "Non-trainable params: 96\n",
            "_________________________________________________________________\n"
          ],
          "name": "stdout"
        }
      ]
    },
    {
      "cell_type": "code",
      "metadata": {
        "id": "_BbTjn4AGT5-"
      },
      "source": [
        "def loss_function(y_true, y_pred):\n",
        "  squared_diff = tf.square(y_true - y_pred)\n",
        "  return tf.reduce_mean(squared_diff)\n"
      ],
      "execution_count": null,
      "outputs": []
    },
    {
      "cell_type": "code",
      "metadata": {
        "id": "ti1MlFfMlZEj"
      },
      "source": [
        "x_list = []\n",
        "y_list = []\n",
        "for i in range(1000):\n",
        "  x,y  = create_data_sample(10, img_shape[0], img_shape[1])\n",
        "  x_list.append(x)\n",
        "  y_list.append(y)\n",
        "x_list = np.array(x_list)\n",
        "y_list = np.array(y_list)"
      ],
      "execution_count": null,
      "outputs": []
    },
    {
      "cell_type": "code",
      "metadata": {
        "id": "odlwwBD_oCvQ",
        "outputId": "01be0be8-5fb9-4a28-dbe0-2c2a2f6b8181",
        "colab": {
          "base_uri": "https://localhost:8080/",
          "height": 203
        }
      },
      "source": [
        "i = 3\n",
        "show_sample(x_list[i], y_list[i])"
      ],
      "execution_count": null,
      "outputs": [
        {
          "output_type": "display_data",
          "data": {
            "image/png": "[encoded data removed]",
            "text/plain": [
              "<Figure size 432x288 with 2 Axes>"
            ]
          },
          "metadata": {
            "tags": [],
            "needs_background": "light"
          }
        }
      ]
    },
    {
      "cell_type": "code",
      "metadata": {
        "id": "9XgarLrmmKRi",
        "outputId": "eaca3d26-8a66-44f1-c513-85c38d860292",
        "colab": {
          "base_uri": "https://localhost:8080/",
          "height": 35
        }
      },
      "source": [
        "x_list.shape"
      ],
      "execution_count": null,
      "outputs": [
        {
          "output_type": "execute_result",
          "data": {
            "text/plain": [
              "(1000, 128, 128, 3)"
            ]
          },
          "metadata": {
            "tags": []
          },
          "execution_count": 20
        }
      ]
    },
    {
      "cell_type": "code",
      "metadata": {
        "id": "odXTQBu6GPKO"
      },
      "source": [
        "opt = keras.optimizers.Adam(learning_rate=1e-4)\n",
        "model.compile(optimizer=opt,loss=loss_function)"
      ],
      "execution_count": null,
      "outputs": []
    },
    {
      "cell_type": "code",
      "metadata": {
        "id": "ruf3_HvEGJyA",
        "outputId": "26fb4da8-e38a-4eba-ecfa-d26e4d780434",
        "colab": {
          "base_uri": "https://localhost:8080/",
          "height": 1000
        }
      },
      "source": [
        "\n",
        "model.fit(x_list,y_list,batch_size=100,epochs=100)"
      ],
      "execution_count": null,
      "outputs": [
        {
          "output_type": "stream",
          "text": [
            "Epoch 1/100\n",
            " 2/10 [=====>........................] - ETA: 0s - loss: 1.1588WARNING:tensorflow:Callbacks method `on_train_batch_end` is slow compared to the batch time (batch time: 0.0191s vs `on_train_batch_end` time: 0.0331s). Check your callbacks.\n",
            "10/10 [==============================] - 0s 49ms/step - loss: 0.6497\n",
            "Epoch 2/100\n",
            "10/10 [==============================] - 1s 56ms/step - loss: 0.2778\n",
            "Epoch 3/100\n",
            "10/10 [==============================] - 1s 55ms/step - loss: 0.2268\n",
            "Epoch 4/100\n",
            "10/10 [==============================] - 1s 57ms/step - loss: 0.1635\n",
            "Epoch 5/100\n",
            "10/10 [==============================] - 1s 55ms/step - loss: 0.1359\n",
            "Epoch 6/100\n",
            "10/10 [==============================] - 1s 56ms/step - loss: 0.1159\n",
            "Epoch 7/100\n",
            "10/10 [==============================] - 1s 55ms/step - loss: 0.1004\n",
            "Epoch 8/100\n",
            "10/10 [==============================] - 1s 56ms/step - loss: 0.0882\n",
            "Epoch 9/100\n",
            "10/10 [==============================] - 1s 56ms/step - loss: 0.0782\n",
            "Epoch 10/100\n",
            "10/10 [==============================] - 1s 55ms/step - loss: 0.0699\n",
            "Epoch 11/100\n",
            "10/10 [==============================] - 1s 56ms/step - loss: 0.0628\n",
            "Epoch 12/100\n",
            "10/10 [==============================] - 1s 55ms/step - loss: 0.0567\n",
            "Epoch 13/100\n",
            "10/10 [==============================] - 1s 56ms/step - loss: 0.0515\n",
            "Epoch 14/100\n",
            "10/10 [==============================] - 1s 56ms/step - loss: 0.0470\n",
            "Epoch 15/100\n",
            "10/10 [==============================] - 1s 54ms/step - loss: 0.0431\n",
            "Epoch 16/100\n",
            "10/10 [==============================] - 1s 56ms/step - loss: 0.0396\n",
            "Epoch 17/100\n",
            "10/10 [==============================] - 1s 55ms/step - loss: 0.0365\n",
            "Epoch 18/100\n",
            "10/10 [==============================] - 1s 55ms/step - loss: 0.0337\n",
            "Epoch 19/100\n",
            "10/10 [==============================] - 1s 56ms/step - loss: 0.0313\n",
            "Epoch 20/100\n",
            "10/10 [==============================] - 1s 56ms/step - loss: 0.0290\n",
            "Epoch 21/100\n",
            "10/10 [==============================] - 1s 54ms/step - loss: 0.0270\n",
            "Epoch 22/100\n",
            "10/10 [==============================] - 1s 56ms/step - loss: 0.0252\n",
            "Epoch 23/100\n",
            "10/10 [==============================] - 1s 55ms/step - loss: 0.0235\n",
            "Epoch 24/100\n",
            "10/10 [==============================] - 1s 56ms/step - loss: 0.0220\n",
            "Epoch 25/100\n",
            "10/10 [==============================] - 1s 56ms/step - loss: 0.0206\n",
            "Epoch 26/100\n",
            "10/10 [==============================] - 1s 56ms/step - loss: 0.0194\n",
            "Epoch 27/100\n",
            "10/10 [==============================] - 1s 56ms/step - loss: 0.0182\n",
            "Epoch 28/100\n",
            "10/10 [==============================] - 1s 55ms/step - loss: 0.0172\n",
            "Epoch 29/100\n",
            "10/10 [==============================] - 1s 56ms/step - loss: 0.0162\n",
            "Epoch 30/100\n",
            "10/10 [==============================] - 1s 55ms/step - loss: 0.0154\n",
            "Epoch 31/100\n",
            "10/10 [==============================] - 1s 57ms/step - loss: 0.0146\n",
            "Epoch 32/100\n",
            "10/10 [==============================] - 1s 56ms/step - loss: 0.0139\n",
            "Epoch 33/100\n",
            "10/10 [==============================] - 1s 57ms/step - loss: 0.0132\n",
            "Epoch 34/100\n",
            "10/10 [==============================] - 1s 56ms/step - loss: 0.0126\n",
            "Epoch 35/100\n",
            "10/10 [==============================] - 1s 57ms/step - loss: 0.0120\n",
            "Epoch 36/100\n",
            "10/10 [==============================] - 1s 56ms/step - loss: 0.0115\n",
            "Epoch 37/100\n",
            "10/10 [==============================] - 1s 58ms/step - loss: 0.0110\n",
            "Epoch 38/100\n",
            "10/10 [==============================] - 1s 56ms/step - loss: 0.0106\n",
            "Epoch 39/100\n",
            "10/10 [==============================] - 1s 56ms/step - loss: 0.0102\n",
            "Epoch 40/100\n",
            "10/10 [==============================] - 1s 57ms/step - loss: 0.0098\n",
            "Epoch 41/100\n",
            "10/10 [==============================] - 1s 57ms/step - loss: 0.0094\n",
            "Epoch 42/100\n",
            "10/10 [==============================] - 1s 56ms/step - loss: 0.0091\n",
            "Epoch 43/100\n",
            "10/10 [==============================] - 1s 55ms/step - loss: 0.0088\n",
            "Epoch 44/100\n",
            "10/10 [==============================] - 1s 53ms/step - loss: 0.0085\n",
            "Epoch 45/100\n",
            "10/10 [==============================] - 1s 57ms/step - loss: 0.0082\n",
            "Epoch 46/100\n",
            "10/10 [==============================] - 1s 57ms/step - loss: 0.0080\n",
            "Epoch 47/100\n",
            "10/10 [==============================] - 1s 57ms/step - loss: 0.0078\n",
            "Epoch 48/100\n",
            "10/10 [==============================] - 1s 55ms/step - loss: 0.0075\n",
            "Epoch 49/100\n",
            "10/10 [==============================] - 1s 57ms/step - loss: 0.0073\n",
            "Epoch 50/100\n",
            "10/10 [==============================] - 1s 55ms/step - loss: 0.0071\n",
            "Epoch 51/100\n",
            "10/10 [==============================] - 1s 55ms/step - loss: 0.0069\n",
            "Epoch 52/100\n",
            "10/10 [==============================] - 1s 56ms/step - loss: 0.0068\n",
            "Epoch 53/100\n",
            "10/10 [==============================] - 1s 54ms/step - loss: 0.0066\n",
            "Epoch 54/100\n",
            "10/10 [==============================] - 1s 57ms/step - loss: 0.0064\n",
            "Epoch 55/100\n",
            "10/10 [==============================] - 1s 55ms/step - loss: 0.0063\n",
            "Epoch 56/100\n",
            "10/10 [==============================] - 1s 55ms/step - loss: 0.0062\n",
            "Epoch 57/100\n",
            "10/10 [==============================] - 1s 55ms/step - loss: 0.0060\n",
            "Epoch 58/100\n",
            "10/10 [==============================] - 1s 55ms/step - loss: 0.0059\n",
            "Epoch 59/100\n",
            "10/10 [==============================] - 1s 55ms/step - loss: 0.0058\n",
            "Epoch 60/100\n",
            "10/10 [==============================] - 1s 55ms/step - loss: 0.0057\n",
            "Epoch 61/100\n",
            "10/10 [==============================] - 1s 56ms/step - loss: 0.0055\n",
            "Epoch 62/100\n",
            "10/10 [==============================] - 1s 56ms/step - loss: 0.0054\n",
            "Epoch 63/100\n",
            "10/10 [==============================] - 1s 54ms/step - loss: 0.0053\n",
            "Epoch 64/100\n",
            "10/10 [==============================] - 1s 56ms/step - loss: 0.0052\n",
            "Epoch 65/100\n",
            "10/10 [==============================] - 1s 57ms/step - loss: 0.0051\n",
            "Epoch 66/100\n",
            "10/10 [==============================] - 1s 56ms/step - loss: 0.0050\n",
            "Epoch 67/100\n",
            "10/10 [==============================] - 1s 56ms/step - loss: 0.0050\n",
            "Epoch 68/100\n",
            "10/10 [==============================] - 1s 56ms/step - loss: 0.0049\n",
            "Epoch 69/100\n",
            "10/10 [==============================] - 1s 56ms/step - loss: 0.0048\n",
            "Epoch 70/100\n",
            "10/10 [==============================] - 1s 56ms/step - loss: 0.0047\n",
            "Epoch 71/100\n",
            "10/10 [==============================] - 1s 56ms/step - loss: 0.0046\n",
            "Epoch 72/100\n",
            "10/10 [==============================] - 1s 56ms/step - loss: 0.0046\n",
            "Epoch 73/100\n",
            "10/10 [==============================] - 1s 56ms/step - loss: 0.0045\n",
            "Epoch 74/100\n",
            "10/10 [==============================] - 1s 55ms/step - loss: 0.0044\n",
            "Epoch 75/100\n",
            "10/10 [==============================] - 1s 57ms/step - loss: 0.0044\n",
            "Epoch 76/100\n",
            "10/10 [==============================] - 1s 57ms/step - loss: 0.0043\n",
            "Epoch 77/100\n",
            "10/10 [==============================] - 1s 57ms/step - loss: 0.0043\n",
            "Epoch 78/100\n",
            "10/10 [==============================] - 1s 57ms/step - loss: 0.0042\n",
            "Epoch 79/100\n",
            "10/10 [==============================] - 1s 56ms/step - loss: 0.0041\n",
            "Epoch 80/100\n",
            "10/10 [==============================] - 1s 55ms/step - loss: 0.0041\n",
            "Epoch 81/100\n",
            "10/10 [==============================] - 1s 56ms/step - loss: 0.0040\n",
            "Epoch 82/100\n",
            "10/10 [==============================] - 1s 55ms/step - loss: 0.0040\n",
            "Epoch 83/100\n",
            "10/10 [==============================] - 1s 57ms/step - loss: 0.0039\n",
            "Epoch 84/100\n",
            "10/10 [==============================] - 1s 55ms/step - loss: 0.0039\n",
            "Epoch 85/100\n",
            "10/10 [==============================] - 1s 54ms/step - loss: 0.0039\n",
            "Epoch 86/100\n",
            "10/10 [==============================] - 1s 56ms/step - loss: 0.0038\n",
            "Epoch 87/100\n",
            "10/10 [==============================] - 1s 56ms/step - loss: 0.0038\n",
            "Epoch 88/100\n",
            "10/10 [==============================] - 1s 57ms/step - loss: 0.0037\n",
            "Epoch 89/100\n",
            "10/10 [==============================] - 1s 57ms/step - loss: 0.0037\n",
            "Epoch 90/100\n",
            "10/10 [==============================] - 1s 56ms/step - loss: 0.0036\n",
            "Epoch 91/100\n",
            "10/10 [==============================] - 1s 57ms/step - loss: 0.0036\n",
            "Epoch 92/100\n",
            "10/10 [==============================] - 1s 56ms/step - loss: 0.0036\n",
            "Epoch 93/100\n",
            "10/10 [==============================] - 1s 56ms/step - loss: 0.0035\n",
            "Epoch 94/100\n",
            "10/10 [==============================] - 1s 56ms/step - loss: 0.0035\n",
            "Epoch 95/100\n",
            "10/10 [==============================] - 1s 57ms/step - loss: 0.0035\n",
            "Epoch 96/100\n",
            "10/10 [==============================] - 1s 56ms/step - loss: 0.0034\n",
            "Epoch 97/100\n",
            "10/10 [==============================] - 1s 56ms/step - loss: 0.0034\n",
            "Epoch 98/100\n",
            "10/10 [==============================] - 1s 57ms/step - loss: 0.0034\n",
            "Epoch 99/100\n",
            "10/10 [==============================] - 1s 56ms/step - loss: 0.0034\n",
            "Epoch 100/100\n",
            "10/10 [==============================] - 1s 55ms/step - loss: 0.0033\n"
          ],
          "name": "stdout"
        },
        {
          "output_type": "execute_result",
          "data": {
            "text/plain": [
              "<tensorflow.python.keras.callbacks.History at 0x7fedf012d588>"
            ]
          },
          "metadata": {
            "tags": []
          },
          "execution_count": 23
        }
      ]
    },
    {
      "cell_type": "code",
      "metadata": {
        "id": "X5a70eRoJPH7",
        "outputId": "1a1fb6c5-02a4-4e05-9c4a-fe3f82b06917",
        "colab": {
          "base_uri": "https://localhost:8080/",
          "height": 203
        }
      },
      "source": [
        "img, label = test_batch(10, img_shape[0], img_shape[1])\n",
        "show_batch(img,label)"
      ],
      "execution_count": null,
      "outputs": [
        {
          "output_type": "display_data",
          "data": {
            "image/png": "[encoded data removed]",
            "text/plain": [
              "<Figure size 432x288 with 2 Axes>"
            ]
          },
          "metadata": {
            "tags": [],
            "needs_background": "light"
          }
        }
      ]
    },
    {
      "cell_type": "code",
      "metadata": {
        "id": "6ravQBFDJbzM",
        "outputId": "7334a49d-5f59-4d89-f3cd-cc9a63f4b9e0",
        "colab": {
          "base_uri": "https://localhost:8080/",
          "height": 238
        }
      },
      "source": [
        "y_pred = model.predict(img)\n",
        "print(y_pred.max())\n",
        "show_batch(img, y_pred)"
      ],
      "execution_count": null,
      "outputs": [
        {
          "output_type": "stream",
          "text": [
            "Clipping input data to the valid range for imshow with RGB data ([0..1] for floats or [0..255] for integers).\n"
          ],
          "name": "stderr"
        },
        {
          "output_type": "stream",
          "text": [
            "1.5814799\n"
          ],
          "name": "stdout"
        },
        {
          "output_type": "display_data",
          "data": {
            "image/png": "[encoded data removed]",
            "text/plain": [
              "<Figure size 432x288 with 2 Axes>"
            ]
          },
          "metadata": {
            "tags": [],
            "needs_background": "light"
          }
        }
      ]
    },
    {
      "cell_type": "code",
      "metadata": {
        "id": "fjUnbsGiJo41",
        "outputId": "55d7d65b-1ce8-4c98-d668-a66087822d82",
        "colab": {
          "base_uri": "https://localhost:8080/",
          "height": 163
        }
      },
      "source": [
        "loss_function(y_pred, label)"
      ],
      "execution_count": null,
      "outputs": [
        {
          "output_type": "execute_result",
          "data": {
            "text/plain": [
              "<tf.Tensor: shape=(1, 128, 128), dtype=float64, numpy=\n",
              "array([[[0., 0., 0., ..., 0., 0., 0.],\n",
              "        [0., 0., 0., ..., 0., 0., 0.],\n",
              "        [0., 0., 0., ..., 0., 0., 0.],\n",
              "        ...,\n",
              "        [0., 0., 1., ..., 0., 0., 0.],\n",
              "        [0., 0., 0., ..., 0., 0., 0.],\n",
              "        [0., 0., 0., ..., 0., 0., 0.]]])>"
            ]
          },
          "metadata": {
            "tags": []
          },
          "execution_count": 116
        }
      ]
    }
  ]
}